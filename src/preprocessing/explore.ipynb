{
 "cells": [
  {
   "cell_type": "code",
   "execution_count": 1,
   "id": "1804ef67",
   "metadata": {},
   "outputs": [],
   "source": [
    "import pandas as pd"
   ]
  },
  {
   "cell_type": "code",
   "execution_count": 2,
   "id": "b6799d01",
   "metadata": {},
   "outputs": [],
   "source": [
    "df = pd.read_parquet(\"./data/dataf.parquet\")"
   ]
  },
  {
   "cell_type": "code",
   "execution_count": 3,
   "id": "a1e577cf",
   "metadata": {},
   "outputs": [],
   "source": [
    "df['Crop'] = df['Crop'].apply(lambda x: 'Others' if str(x).isdigit() else x)"
   ]
  },
  {
   "cell_type": "code",
   "execution_count": 5,
   "id": "e5b2cd5c",
   "metadata": {},
   "outputs": [
    {
     "data": {
      "text/plain": [
       "298"
      ]
     },
     "execution_count": 5,
     "metadata": {},
     "output_type": "execute_result"
    }
   ],
   "source": [
    "len(df['Crop'].unique())"
   ]
  },
  {
   "cell_type": "code",
   "execution_count": 6,
   "id": "84115caf",
   "metadata": {},
   "outputs": [],
   "source": [
    "df.to_parquet(\"./data/data.parquet\")"
   ]
  },
  {
   "cell_type": "code",
   "execution_count": 1,
   "id": "3ecf1f7f",
   "metadata": {},
   "outputs": [],
   "source": [
    "import pandas as pd \n",
    "df = pd.read_parquet(\"./data/dataf.parquet\")"
   ]
  },
  {
   "cell_type": "code",
   "execution_count": 2,
   "id": "417c4a36",
   "metadata": {},
   "outputs": [],
   "source": [
    "filtered_df = df[df[\"StateName\"] == \"GUJARAT\"]"
   ]
  },
  {
   "cell_type": "code",
   "execution_count": 3,
   "id": "3ebf2a12",
   "metadata": {},
   "outputs": [
    {
     "data": {
      "text/html": [
       "<div>\n",
       "<style scoped>\n",
       "    .dataframe tbody tr th:only-of-type {\n",
       "        vertical-align: middle;\n",
       "    }\n",
       "\n",
       "    .dataframe tbody tr th {\n",
       "        vertical-align: top;\n",
       "    }\n",
       "\n",
       "    .dataframe thead th {\n",
       "        text-align: right;\n",
       "    }\n",
       "</style>\n",
       "<table border=\"1\" class=\"dataframe\">\n",
       "  <thead>\n",
       "    <tr style=\"text-align: right;\">\n",
       "      <th></th>\n",
       "      <th>StateName</th>\n",
       "      <th>DistrictName</th>\n",
       "      <th>Season</th>\n",
       "      <th>Sector</th>\n",
       "      <th>Category</th>\n",
       "      <th>Crop</th>\n",
       "      <th>QueryType</th>\n",
       "      <th>QueryText</th>\n",
       "      <th>CreatedOn</th>\n",
       "    </tr>\n",
       "  </thead>\n",
       "  <tbody>\n",
       "    <tr>\n",
       "      <th>348145</th>\n",
       "      <td>GUJARAT</td>\n",
       "      <td>JAMNAGAR</td>\n",
       "      <td>Unknown</td>\n",
       "      <td>AGRICULTURE</td>\n",
       "      <td>Pulses</td>\n",
       "      <td>Bengal Gram (Gram/Chick Pea/Kabuli/Chana)</td>\n",
       "      <td>Varieties</td>\n",
       "      <td>Ask about Gernal information</td>\n",
       "      <td>2017-02-17 17:01:00.533</td>\n",
       "    </tr>\n",
       "    <tr>\n",
       "      <th>348146</th>\n",
       "      <td>GUJARAT</td>\n",
       "      <td>JAMNAGAR</td>\n",
       "      <td>RABI</td>\n",
       "      <td>HORTICULTURE</td>\n",
       "      <td>Vegetables</td>\n",
       "      <td>Cowpea (Vegetable)</td>\n",
       "      <td>Cultural Practices</td>\n",
       "      <td>Ask about Gernal information</td>\n",
       "      <td>2017-02-17 17:01:20.190</td>\n",
       "    </tr>\n",
       "    <tr>\n",
       "      <th>348147</th>\n",
       "      <td>GUJARAT</td>\n",
       "      <td>JAMNAGAR</td>\n",
       "      <td>RABI</td>\n",
       "      <td>AGRICULTURE</td>\n",
       "      <td>Others</td>\n",
       "      <td>Others</td>\n",
       "      <td>Cultural Practices</td>\n",
       "      <td>Ask about Gernal information</td>\n",
       "      <td>2017-02-17 17:02:29.233</td>\n",
       "    </tr>\n",
       "    <tr>\n",
       "      <th>348148</th>\n",
       "      <td>GUJARAT</td>\n",
       "      <td>PANCH MAHAL</td>\n",
       "      <td>RABI</td>\n",
       "      <td>AGRICULTURE</td>\n",
       "      <td>Oilseeds</td>\n",
       "      <td>Sesame (Gingelly/Til)/Sesamum</td>\n",
       "      <td>Cultural Practices</td>\n",
       "      <td>Ask about Gernal information</td>\n",
       "      <td>2017-02-17 17:07:15.567</td>\n",
       "    </tr>\n",
       "    <tr>\n",
       "      <th>348149</th>\n",
       "      <td>GUJARAT</td>\n",
       "      <td>BANAS KANTHA</td>\n",
       "      <td>Unknown</td>\n",
       "      <td>AGRICULTURE</td>\n",
       "      <td>Others</td>\n",
       "      <td>Others</td>\n",
       "      <td>Government Schemes</td>\n",
       "      <td>Ask about Gernal information</td>\n",
       "      <td>2017-02-17 17:09:28.510</td>\n",
       "    </tr>\n",
       "  </tbody>\n",
       "</table>\n",
       "</div>"
      ],
      "text/plain": [
       "       StateName  DistrictName   Season        Sector    Category  \\\n",
       "348145   GUJARAT      JAMNAGAR  Unknown   AGRICULTURE      Pulses   \n",
       "348146   GUJARAT      JAMNAGAR     RABI  HORTICULTURE  Vegetables   \n",
       "348147   GUJARAT      JAMNAGAR     RABI   AGRICULTURE      Others   \n",
       "348148   GUJARAT   PANCH MAHAL     RABI   AGRICULTURE    Oilseeds   \n",
       "348149   GUJARAT  BANAS KANTHA  Unknown   AGRICULTURE      Others   \n",
       "\n",
       "                                             Crop           QueryType  \\\n",
       "348145  Bengal Gram (Gram/Chick Pea/Kabuli/Chana)           Varieties   \n",
       "348146                         Cowpea (Vegetable)  Cultural Practices   \n",
       "348147                                     Others  Cultural Practices   \n",
       "348148              Sesame (Gingelly/Til)/Sesamum  Cultural Practices   \n",
       "348149                                     Others  Government Schemes   \n",
       "\n",
       "                           QueryText               CreatedOn  \n",
       "348145  Ask about Gernal information 2017-02-17 17:01:00.533  \n",
       "348146  Ask about Gernal information 2017-02-17 17:01:20.190  \n",
       "348147  Ask about Gernal information 2017-02-17 17:02:29.233  \n",
       "348148  Ask about Gernal information 2017-02-17 17:07:15.567  \n",
       "348149  Ask about Gernal information 2017-02-17 17:09:28.510  "
      ]
     },
     "execution_count": 3,
     "metadata": {},
     "output_type": "execute_result"
    }
   ],
   "source": [
    "filtered_df.head()"
   ]
  },
  {
   "cell_type": "code",
   "execution_count": 7,
   "id": "20ff7e1f",
   "metadata": {},
   "outputs": [
    {
     "data": {
      "text/plain": [
       "Crop\n",
       "Others                             1012700\n",
       "Cotton (Kapas)                      220461\n",
       "Groundnut (pea nut/mung phalli)     152643\n",
       "Cumin                               111983\n",
       "Wheat                                60968\n",
       "                                    ...   \n",
       "8140                                     0\n",
       "8141                                     0\n",
       "8475                                     0\n",
       "8477                                     0\n",
       "8478                                     0\n",
       "Name: count, Length: 952, dtype: int64"
      ]
     },
     "execution_count": 7,
     "metadata": {},
     "output_type": "execute_result"
    }
   ],
   "source": [
    "filtered_df[\"Crop\"].value_counts()"
   ]
  },
  {
   "cell_type": "code",
   "execution_count": 12,
   "id": "50f1cec0",
   "metadata": {},
   "outputs": [],
   "source": [
    "top_col2_values = (\n",
    "        filtered_df.groupby(\"Crop\")\n",
    "        .size()\n",
    "        .sort_values(ascending=False)\n",
    "        .head(10)\n",
    "        .index\n",
    "    )\n",
    "top_col2_values = top_col2_values.tolist()"
   ]
  },
  {
   "cell_type": "code",
   "execution_count": 14,
   "id": "86b15225",
   "metadata": {},
   "outputs": [],
   "source": [
    "filtered_df = filtered_df[filtered_df[\"Crop\"].isin(top_col2_values)]"
   ]
  },
  {
   "cell_type": "code",
   "execution_count": 15,
   "id": "ebc1b5c2",
   "metadata": {},
   "outputs": [
    {
     "data": {
      "text/plain": [
       "['Bengal Gram (Gram/Chick Pea/Kabuli/Chana)', 'Others', 'Sesame (Gingelly/Til)/Sesamum', 'Wheat', 'Groundnut (pea nut/mung phalli)', 'Cumin', 'Coriander', 'Cotton (Kapas)', 'Castor (Rehri, Rendi, Arandi)', 'Onion']\n",
       "Categories (952, object): ['-1', '0', '1037', '1044', ..., 'lobia', 'rajka bajri.', 'velimasal', 'white rats']"
      ]
     },
     "execution_count": 15,
     "metadata": {},
     "output_type": "execute_result"
    }
   ],
   "source": [
    "filtered_df[\"Crop\"].unique()"
   ]
  },
  {
   "cell_type": "code",
   "execution_count": 17,
   "id": "4599ad4c",
   "metadata": {},
   "outputs": [],
   "source": [
    "filtered_df[\"Date\"] = filtered_df[\"CreatedOn\"].dt.date"
   ]
  },
  {
   "cell_type": "code",
   "execution_count": 18,
   "id": "f47b9f37",
   "metadata": {},
   "outputs": [],
   "source": [
    "ts_df = filtered_df.groupby([\"Date\", \"Crop\"]).size().unstack(fill_value=0)"
   ]
  },
  {
   "cell_type": "code",
   "execution_count": null,
   "id": "4c7ff873",
   "metadata": {},
   "outputs": [
    {
     "ename": "KeyError",
     "evalue": "'Crop'",
     "output_type": "error",
     "traceback": [
      "\u001b[0;31m---------------------------------------------------------------------------\u001b[0m",
      "\u001b[0;31mKeyError\u001b[0m                                  Traceback (most recent call last)",
      "File \u001b[0;32m/usr/local/lib/python3.10/dist-packages/pandas/core/indexes/base.py:3652\u001b[0m, in \u001b[0;36mIndex.get_loc\u001b[0;34m(self, key)\u001b[0m\n\u001b[1;32m   3651\u001b[0m \u001b[38;5;28;01mtry\u001b[39;00m:\n\u001b[0;32m-> 3652\u001b[0m     \u001b[38;5;28;01mreturn\u001b[39;00m \u001b[38;5;28;43mself\u001b[39;49m\u001b[38;5;241;43m.\u001b[39;49m\u001b[43m_engine\u001b[49m\u001b[38;5;241;43m.\u001b[39;49m\u001b[43mget_loc\u001b[49m\u001b[43m(\u001b[49m\u001b[43mcasted_key\u001b[49m\u001b[43m)\u001b[49m\n\u001b[1;32m   3653\u001b[0m \u001b[38;5;28;01mexcept\u001b[39;00m \u001b[38;5;167;01mKeyError\u001b[39;00m \u001b[38;5;28;01mas\u001b[39;00m err:\n",
      "File \u001b[0;32m/usr/local/lib/python3.10/dist-packages/pandas/_libs/index.pyx:147\u001b[0m, in \u001b[0;36mpandas._libs.index.IndexEngine.get_loc\u001b[0;34m()\u001b[0m\n",
      "File \u001b[0;32m/usr/local/lib/python3.10/dist-packages/pandas/_libs/index.pyx:176\u001b[0m, in \u001b[0;36mpandas._libs.index.IndexEngine.get_loc\u001b[0;34m()\u001b[0m\n",
      "File \u001b[0;32mpandas/_libs/hashtable_class_helper.pxi:7080\u001b[0m, in \u001b[0;36mpandas._libs.hashtable.PyObjectHashTable.get_item\u001b[0;34m()\u001b[0m\n",
      "File \u001b[0;32mpandas/_libs/hashtable_class_helper.pxi:7088\u001b[0m, in \u001b[0;36mpandas._libs.hashtable.PyObjectHashTable.get_item\u001b[0;34m()\u001b[0m\n",
      "\u001b[0;31mKeyError\u001b[0m: 'Crop'",
      "\nThe above exception was the direct cause of the following exception:\n",
      "\u001b[0;31mKeyError\u001b[0m                                  Traceback (most recent call last)",
      "Cell \u001b[0;32mIn[19], line 1\u001b[0m\n\u001b[0;32m----> 1\u001b[0m \u001b[43mts_df\u001b[49m\u001b[43m[\u001b[49m\u001b[38;5;124;43m\"\u001b[39;49m\u001b[38;5;124;43mCrop\u001b[39;49m\u001b[38;5;124;43m\"\u001b[39;49m\u001b[43m]\u001b[49m\u001b[38;5;241m.\u001b[39munique()\n",
      "File \u001b[0;32m/usr/local/lib/python3.10/dist-packages/pandas/core/frame.py:3761\u001b[0m, in \u001b[0;36mDataFrame.__getitem__\u001b[0;34m(self, key)\u001b[0m\n\u001b[1;32m   3759\u001b[0m \u001b[38;5;28;01mif\u001b[39;00m \u001b[38;5;28mself\u001b[39m\u001b[38;5;241m.\u001b[39mcolumns\u001b[38;5;241m.\u001b[39mnlevels \u001b[38;5;241m>\u001b[39m \u001b[38;5;241m1\u001b[39m:\n\u001b[1;32m   3760\u001b[0m     \u001b[38;5;28;01mreturn\u001b[39;00m \u001b[38;5;28mself\u001b[39m\u001b[38;5;241m.\u001b[39m_getitem_multilevel(key)\n\u001b[0;32m-> 3761\u001b[0m indexer \u001b[38;5;241m=\u001b[39m \u001b[38;5;28;43mself\u001b[39;49m\u001b[38;5;241;43m.\u001b[39;49m\u001b[43mcolumns\u001b[49m\u001b[38;5;241;43m.\u001b[39;49m\u001b[43mget_loc\u001b[49m\u001b[43m(\u001b[49m\u001b[43mkey\u001b[49m\u001b[43m)\u001b[49m\n\u001b[1;32m   3762\u001b[0m \u001b[38;5;28;01mif\u001b[39;00m is_integer(indexer):\n\u001b[1;32m   3763\u001b[0m     indexer \u001b[38;5;241m=\u001b[39m [indexer]\n",
      "File \u001b[0;32m/usr/local/lib/python3.10/dist-packages/pandas/core/indexes/base.py:3650\u001b[0m, in \u001b[0;36mIndex.get_loc\u001b[0;34m(self, key)\u001b[0m\n\u001b[1;32m   3624\u001b[0m \u001b[38;5;28;01mdef\u001b[39;00m \u001b[38;5;21mget_loc\u001b[39m(\u001b[38;5;28mself\u001b[39m, key):\n\u001b[1;32m   3625\u001b[0m \u001b[38;5;250m    \u001b[39m\u001b[38;5;124;03m\"\"\"\u001b[39;00m\n\u001b[1;32m   3626\u001b[0m \u001b[38;5;124;03m    Get integer location, slice or boolean mask for requested label.\u001b[39;00m\n\u001b[1;32m   3627\u001b[0m \n\u001b[0;32m   (...)\u001b[0m\n\u001b[1;32m   3648\u001b[0m \u001b[38;5;124;03m    array([False,  True, False,  True])\u001b[39;00m\n\u001b[1;32m   3649\u001b[0m \u001b[38;5;124;03m    \"\"\"\u001b[39;00m\n\u001b[0;32m-> 3650\u001b[0m     casted_key \u001b[38;5;241m=\u001b[39m \u001b[38;5;28;43mself\u001b[39;49m\u001b[38;5;241;43m.\u001b[39;49m\u001b[43m_maybe_cast_indexer\u001b[49m\u001b[43m(\u001b[49m\u001b[43mkey\u001b[49m\u001b[43m)\u001b[49m\n\u001b[1;32m   3651\u001b[0m     \u001b[38;5;28;01mtry\u001b[39;00m:\n\u001b[1;32m   3652\u001b[0m         \u001b[38;5;28;01mreturn\u001b[39;00m \u001b[38;5;28mself\u001b[39m\u001b[38;5;241m.\u001b[39m_engine\u001b[38;5;241m.\u001b[39mget_loc(casted_key)\n",
      "File \u001b[0;32m/usr/local/lib/python3.10/dist-packages/pandas/core/indexes/category.py:377\u001b[0m, in \u001b[0;36mCategoricalIndex._maybe_cast_indexer\u001b[0;34m(self, key)\u001b[0m\n\u001b[1;32m    373\u001b[0m \u001b[38;5;28;01mdef\u001b[39;00m \u001b[38;5;21m_maybe_cast_indexer\u001b[39m(\u001b[38;5;28mself\u001b[39m, key) \u001b[38;5;241m-\u001b[39m\u001b[38;5;241m>\u001b[39m \u001b[38;5;28mint\u001b[39m:\n\u001b[1;32m    374\u001b[0m     \u001b[38;5;66;03m# GH#41933: we have to do this instead of self._data._validate_scalar\u001b[39;00m\n\u001b[1;32m    375\u001b[0m     \u001b[38;5;66;03m#  because this will correctly get partial-indexing on Interval categories\u001b[39;00m\n\u001b[1;32m    376\u001b[0m     \u001b[38;5;28;01mtry\u001b[39;00m:\n\u001b[0;32m--> 377\u001b[0m         \u001b[38;5;28;01mreturn\u001b[39;00m \u001b[38;5;28;43mself\u001b[39;49m\u001b[38;5;241;43m.\u001b[39;49m\u001b[43m_data\u001b[49m\u001b[38;5;241;43m.\u001b[39;49m\u001b[43m_unbox_scalar\u001b[49m\u001b[43m(\u001b[49m\u001b[43mkey\u001b[49m\u001b[43m)\u001b[49m\n\u001b[1;32m    378\u001b[0m     \u001b[38;5;28;01mexcept\u001b[39;00m \u001b[38;5;167;01mKeyError\u001b[39;00m:\n\u001b[1;32m    379\u001b[0m         \u001b[38;5;28;01mif\u001b[39;00m is_valid_na_for_dtype(key, \u001b[38;5;28mself\u001b[39m\u001b[38;5;241m.\u001b[39mcategories\u001b[38;5;241m.\u001b[39mdtype):\n",
      "File \u001b[0;32m/usr/local/lib/python3.10/dist-packages/pandas/core/arrays/categorical.py:1784\u001b[0m, in \u001b[0;36mCategorical._unbox_scalar\u001b[0;34m(self, key)\u001b[0m\n\u001b[1;32m   1781\u001b[0m \u001b[38;5;28;01mdef\u001b[39;00m \u001b[38;5;21m_unbox_scalar\u001b[39m(\u001b[38;5;28mself\u001b[39m, key) \u001b[38;5;241m-\u001b[39m\u001b[38;5;241m>\u001b[39m \u001b[38;5;28mint\u001b[39m:\n\u001b[1;32m   1782\u001b[0m     \u001b[38;5;66;03m# searchsorted is very performance sensitive. By converting codes\u001b[39;00m\n\u001b[1;32m   1783\u001b[0m     \u001b[38;5;66;03m# to same dtype as self.codes, we get much faster performance.\u001b[39;00m\n\u001b[0;32m-> 1784\u001b[0m     code \u001b[38;5;241m=\u001b[39m \u001b[38;5;28;43mself\u001b[39;49m\u001b[38;5;241;43m.\u001b[39;49m\u001b[43mcategories\u001b[49m\u001b[38;5;241;43m.\u001b[39;49m\u001b[43mget_loc\u001b[49m\u001b[43m(\u001b[49m\u001b[43mkey\u001b[49m\u001b[43m)\u001b[49m\n\u001b[1;32m   1785\u001b[0m     code \u001b[38;5;241m=\u001b[39m \u001b[38;5;28mself\u001b[39m\u001b[38;5;241m.\u001b[39m_ndarray\u001b[38;5;241m.\u001b[39mdtype\u001b[38;5;241m.\u001b[39mtype(code)\n\u001b[1;32m   1786\u001b[0m     \u001b[38;5;28;01mreturn\u001b[39;00m code\n",
      "File \u001b[0;32m/usr/local/lib/python3.10/dist-packages/pandas/core/indexes/base.py:3654\u001b[0m, in \u001b[0;36mIndex.get_loc\u001b[0;34m(self, key)\u001b[0m\n\u001b[1;32m   3652\u001b[0m     \u001b[38;5;28;01mreturn\u001b[39;00m \u001b[38;5;28mself\u001b[39m\u001b[38;5;241m.\u001b[39m_engine\u001b[38;5;241m.\u001b[39mget_loc(casted_key)\n\u001b[1;32m   3653\u001b[0m \u001b[38;5;28;01mexcept\u001b[39;00m \u001b[38;5;167;01mKeyError\u001b[39;00m \u001b[38;5;28;01mas\u001b[39;00m err:\n\u001b[0;32m-> 3654\u001b[0m     \u001b[38;5;28;01mraise\u001b[39;00m \u001b[38;5;167;01mKeyError\u001b[39;00m(key) \u001b[38;5;28;01mfrom\u001b[39;00m \u001b[38;5;21;01merr\u001b[39;00m\n\u001b[1;32m   3655\u001b[0m \u001b[38;5;28;01mexcept\u001b[39;00m \u001b[38;5;167;01mTypeError\u001b[39;00m:\n\u001b[1;32m   3656\u001b[0m     \u001b[38;5;66;03m# If we have a listlike key, _check_indexing_error will raise\u001b[39;00m\n\u001b[1;32m   3657\u001b[0m     \u001b[38;5;66;03m#  InvalidIndexError. Otherwise we fall through and re-raise\u001b[39;00m\n\u001b[1;32m   3658\u001b[0m     \u001b[38;5;66;03m#  the TypeError.\u001b[39;00m\n\u001b[1;32m   3659\u001b[0m     \u001b[38;5;28mself\u001b[39m\u001b[38;5;241m.\u001b[39m_check_indexing_error(key)\n",
      "\u001b[0;31mKeyError\u001b[0m: 'Crop'"
     ]
    }
   ],
   "source": []
  }
 ],
 "metadata": {
  "kernelspec": {
   "display_name": "Python 3",
   "language": "python",
   "name": "python3"
  },
  "language_info": {
   "codemirror_mode": {
    "name": "ipython",
    "version": 3
   },
   "file_extension": ".py",
   "mimetype": "text/x-python",
   "name": "python",
   "nbconvert_exporter": "python",
   "pygments_lexer": "ipython3",
   "version": "3.10.12"
  }
 },
 "nbformat": 4,
 "nbformat_minor": 5
}
