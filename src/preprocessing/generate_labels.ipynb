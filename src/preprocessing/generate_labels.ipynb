{
 "cells": [
  {
   "cell_type": "code",
   "execution_count": 3,
   "id": "218a4ba9",
   "metadata": {},
   "outputs": [
    {
     "name": "stdout",
     "output_type": "stream",
     "text": [
      "Cluster labels saved to 'cluster_labels.json'.\n"
     ]
    }
   ],
   "source": [
    "import json\n",
    "from collections import defaultdict\n",
    "from sklearn.feature_extraction.text import TfidfVectorizer\n",
    "\n",
    "# Step 1: Load the input dictionary\n",
    "with open('query_to_cluster_id.json', 'r') as f:\n",
    "    query_to_cluster = json.load(f)\n",
    "\n",
    "# Step 2: Group queries by cluster\n",
    "cluster_to_queries = defaultdict(list)\n",
    "for query, cluster_id in query_to_cluster.items():\n",
    "    cluster_to_queries[cluster_id].append(query)\n",
    "\n",
    "# Step 3: Generate a 2-word label for each cluster\n",
    "cluster_labels = {}\n",
    "\n",
    "for cluster_id, queries in cluster_to_queries.items():\n",
    "    if not queries:  # If empty list, skip\n",
    "        continue\n",
    "\n",
    "    # Use TF-IDF to extract top keywords\n",
    "    vectorizer = TfidfVectorizer(stop_words='english', max_features=50)\n",
    "    try:\n",
    "        X = vectorizer.fit_transform(queries)\n",
    "        feature_names = vectorizer.get_feature_names_out()\n",
    "        \n",
    "        if len(feature_names) < 2:\n",
    "            label = \"Miscellaneous Cluster\"\n",
    "        else:\n",
    "            tfidf_scores = X.mean(axis=0).A1\n",
    "            top_indices = tfidf_scores.argsort()[::-1][:2]\n",
    "            top_words = [feature_names[idx] for idx in top_indices]\n",
    "            label = ' '.join(top_words)\n",
    "\n",
    "    except ValueError:  # empty vocabulary error\n",
    "        label = \"Miscellaneous Cluster\"\n",
    "    \n",
    "    cluster_labels[cluster_id] = label\n",
    "with open('cluster_labels.json', 'w') as f:\n",
    "    json.dump(cluster_labels, f, indent=2)\n",
    "print(\"Cluster labels saved to 'cluster_labels.json'.\")\n"
   ]
  }
 ],
 "metadata": {
  "kernelspec": {
   "display_name": "Python 3",
   "language": "python",
   "name": "python3"
  },
  "language_info": {
   "codemirror_mode": {
    "name": "ipython",
    "version": 3
   },
   "file_extension": ".py",
   "mimetype": "text/x-python",
   "name": "python",
   "nbconvert_exporter": "python",
   "pygments_lexer": "ipython3",
   "version": "3.10.12"
  }
 },
 "nbformat": 4,
 "nbformat_minor": 5
}
